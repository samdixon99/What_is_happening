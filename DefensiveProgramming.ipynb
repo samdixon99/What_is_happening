{
 "cells": [
  {
   "cell_type": "markdown",
   "metadata": {},
   "source": [
    "   # Defensive programming (1)\n",
    "   \n",
    "   How much time do you spend writing software? How much time do you spend \n",
    "   debugging that software? It turns out that it is very easy to spend lots\n",
    "   of time fixing bugs and less time than you would like writing new software\n",
    "   to do new science. This is a problem that is fairly well understood by\n",
    "   the software engineering community, but many scientists don't take advantage \n",
    "   of this knowledge. This afternoon we will take a brief look at some of the \n",
    "   tools and technique to make your debugging less painful.\n",
    "   \n",
    "   We'll also think a bit about how you may know if your programmes are correct. \n",
    "   This is a much harder but important problem. Even minor errors in research \n",
    "   code can lead to the retraction of papers, as happened to Geoffrey Chang \n",
    "   in 2006 (see http://dx.doi.org/10.1126/science.314.5807.1856). Chang did\n",
    "   nothing malicious and committed no fraud, but because of a minor software \n",
    "   error had two retract five papers just before Christmas."
   ]
  },
  {
   "cell_type": "markdown",
   "metadata": {},
   "source": [
    "__NB: This notebook is designed for teaching about exceptions and error testing. It includes deliberate errors. There are probably accidental errors too.__"
   ]
  },
  {
   "cell_type": "markdown",
   "metadata": {},
   "source": [
    "## Mean cell volume \n",
    "First, we will look at how one programme can produce \n",
    "the wrong answer, and how we can avoid this happening\n",
    "when we use it."
   ]
  },
  {
   "cell_type": "code",
   "execution_count": 3,
   "metadata": {
    "collapsed": false
   },
   "outputs": [],
   "source": [
    "def cell_volume(X, Y, Z):\n",
    "    # Return the volume of a unit cell \n",
    "    # described by lattice vectors X, Y and Z\n",
    "    # The volume is given by the determinant of\n",
    "    # the matrix formed by sticking the three \n",
    "    # vectors together. i.e.\n",
    "    #\n",
    "    #     | X[0] Y[0] Z[0] |\n",
    "    # V = | X[1] Y[1] Z[1] |\n",
    "    #     | X[2] Y[2] Z[2] |\n",
    "    #\n",
    "    # V = X[0].Y[1].Z[2] + Y[0].Z[1].X[2] \n",
    "    #     + X[2].Y[0].Z[1] - Z[0].Y[1].X[2]\n",
    "    #     - Y[0].X[1].Z[2] - X[0].Z[1].Y[2]\n",
    "    \n",
    "    volume = (X[0]*Y[1]*Z[2] + Y[0]*Z[1]*X[2] + X[2]*Y[0]*Z[1]  \n",
    "           - Z[0]*Y[1]*X[2] - Y[0]*X[1]*Z[2] - X[0]*Z[1]*Y[2])\n",
    "        \n",
    "    return volume"
   ]
  },
  {
   "cell_type": "code",
   "execution_count": 6,
   "metadata": {
    "collapsed": false
   },
   "outputs": [
    {
     "data": {
      "text/plain": [
       "240.0"
      ]
     },
     "execution_count": 6,
     "metadata": {},
     "output_type": "execute_result"
    }
   ],
   "source": [
    "cell_volume([10.0, 0.0, 0.0], [0.0,4.0, 0.0], [0.0, 0.0, 6.0])"
   ]
  },
  {
   "cell_type": "code",
   "execution_count": 8,
   "metadata": {
    "collapsed": true
   },
   "outputs": [],
   "source": [
    "def mean_cell_volume(cell_list):\n",
    "    # Return the avarage volume of a list \n",
    "    # of unit cells. Each element of cell_list\n",
    "    # should be a list of three lattice vectors, \n",
    "    # each with three components. The volume of\n",
    "    # each cell is calculated and summed before \n",
    "    # being devided by the number of cells to give\n",
    "    # the mean volume.\n",
    "    \n",
    "    num_cells = 0\n",
    "    sum_volume = 0.0\n",
    "    for cell in cell_list:\n",
    "        X = cell[0]\n",
    "        Y = cell[1]\n",
    "        Z = cell[2]\n",
    "        sum_volume = sum_volume + cell_volume(X, Y, Z)\n",
    "        num_cells = num_cells + 1\n",
    "    \n",
    "    mean_volume = sum_volume/num_cells\n",
    "    \n",
    "    return mean_volume\n",
    "        "
   ]
  },
  {
   "cell_type": "code",
   "execution_count": 13,
   "metadata": {
    "collapsed": false
   },
   "outputs": [
    {
     "data": {
      "text/plain": [
       "240.0"
      ]
     },
     "execution_count": 13,
     "metadata": {},
     "output_type": "execute_result"
    }
   ],
   "source": [
    "mean_cell_volume([[[4.0, 0.0, 0.0], [0.0, 10.0, 0.0], [0.0, 0.0, 6.0], [10.0, 0.0, 0.0], [0.0, 4.0, 0.0], [0.0, 0.0, 6.0]]])"
   ]
  },
  {
   "cell_type": "code",
   "execution_count": 20,
   "metadata": {
    "collapsed": false
   },
   "outputs": [
    {
     "data": {
      "text/plain": [
       "240.0"
      ]
     },
     "execution_count": 20,
     "metadata": {},
     "output_type": "execute_result"
    }
   ],
   "source": [
    "mean_cell_volume([[[4.0, 0.0, 0.0], [0.0, 10.0, 0.0], [0.0, 0.0, 6.0], [10.0, 0.0, 0.0], [0.0, -4.0, 0.0], [0.0, 0.0, 6.0]]])"
   ]
  },
  {
   "cell_type": "code",
   "execution_count": 19,
   "metadata": {
    "collapsed": false
   },
   "outputs": [
    {
     "data": {
      "text/plain": [
       "-240.0"
      ]
     },
     "execution_count": 19,
     "metadata": {},
     "output_type": "execute_result"
    }
   ],
   "source": [
    "cell_volume([10.0, 0.0, 0.0], [0.0, -4.0, 0.0], [0.0, 0.0, 6.0])"
   ]
  },
  {
   "cell_type": "code",
   "execution_count": 23,
   "metadata": {
    "collapsed": false
   },
   "outputs": [
    {
     "ename": "AssertionError",
     "evalue": "something went wrong",
     "output_type": "error",
     "traceback": [
      "\u001b[1;31m---------------------------------------------------------------------------\u001b[0m",
      "\u001b[1;31mAssertionError\u001b[0m                            Traceback (most recent call last)",
      "\u001b[1;32m<ipython-input-23-2f7e5950bc6f>\u001b[0m in \u001b[0;36m<module>\u001b[1;34m()\u001b[0m\n\u001b[1;32m----> 1\u001b[1;33m \u001b[1;32massert\u001b[0m \u001b[1;33m-\u001b[0m\u001b[1;36m1.0\u001b[0m \u001b[1;33m>\u001b[0m \u001b[1;36m0.0\u001b[0m\u001b[1;33m,\u001b[0m \u001b[1;34m\"something went wrong\"\u001b[0m\u001b[1;33m\u001b[0m\u001b[0m\n\u001b[0m",
      "\u001b[1;31mAssertionError\u001b[0m: something went wrong"
     ]
    }
   ],
   "source": [
    "assert -1.0 > 0.0, \"something went wrong\""
   ]
  },
  {
   "cell_type": "code",
   "execution_count": 24,
   "metadata": {
    "collapsed": false
   },
   "outputs": [
    {
     "data": {
      "text/plain": [
       "240.0"
      ]
     },
     "execution_count": 24,
     "metadata": {},
     "output_type": "execute_result"
    }
   ],
   "source": [
    "mean_cell_volume([[[4.0, 10.0, 6.0, 90, 90, 90], [0.0, 10.0, 0.0], [0.0, 0.0, 6.0], [10.0, 0.0, 0.0], [0.0, 4.0, 0.0], [0.0, 0.0, 6.0]]])"
   ]
  },
  {
   "cell_type": "code",
   "execution_count": 30,
   "metadata": {
    "collapsed": false
   },
   "outputs": [
    {
     "ename": "SyntaxError",
     "evalue": "invalid syntax (<ipython-input-30-91bc33a54255>, line 19)",
     "output_type": "error",
     "traceback": [
      "\u001b[1;36m  File \u001b[1;32m\"<ipython-input-30-91bc33a54255>\"\u001b[1;36m, line \u001b[1;32m19\u001b[0m\n\u001b[1;33m    volume = (X[0]*Y[1]*Z[2] + Y[0]*Z[1]*X[2] + X[2]*Y[0]*Z[1]\u001b[0m\n\u001b[1;37m         ^\u001b[0m\n\u001b[1;31mSyntaxError\u001b[0m\u001b[1;31m:\u001b[0m invalid syntax\n"
     ]
    }
   ],
   "source": [
    "def cell_volume(X, Y, Z):\n",
    "    # Return the volume of a unit cell \n",
    "    # described by lattice vectors X, Y and Z\n",
    "    # The volume is given by the determinant of\n",
    "    # the matrix formed by sticking the three \n",
    "    # vectors together. i.e.\n",
    "    #\n",
    "    #     | X[0] Y[0] Z[0] |\n",
    "    # V = | X[1] Y[1] Z[1] |\n",
    "    #     | X[2] Y[2] Z[2] |\n",
    "    #\n",
    "    # V = X[0].Y[1].Z[2] + Y[0].Z[1].X[2] \n",
    "    #     + X[2].Y[0].Z[1] - Z[0].Y[1].X[2]\n",
    "    #     - Y[0].X[1].Z[2] - X[0].Z[1].Y[2]\n",
    "    \n",
    "    assert ((len(x)**3) and (len(x)**3) and(len(z)**3), \"vector not size 3\"\n",
    "    \n",
    "    \n",
    "    volume = (X[0]*Y[1]*Z[2] + Y[0]*Z[1]*X[2] + X[2]*Y[0]*Z[1]  \n",
    "           - Z[0]*Y[1]*X[2] - Y[0]*X[1]*Z[2] - X[0]*Z[1]*Y[2])\n",
    "        \n",
    "    assert volume =>=0, \"volume not positive\"\n",
    "            \n",
    "    return volume"
   ]
  },
  {
   "cell_type": "code",
   "execution_count": 27,
   "metadata": {
    "collapsed": false
   },
   "outputs": [
    {
     "data": {
      "text/plain": [
       "240.0"
      ]
     },
     "execution_count": 27,
     "metadata": {},
     "output_type": "execute_result"
    }
   ],
   "source": [
    "cell_volume([10.0, 0.0, 0.0], [0.0,4.0, 0.0], [0.0, 0.0, 6.0])"
   ]
  },
  {
   "cell_type": "code",
   "execution_count": 31,
   "metadata": {
    "collapsed": false
   },
   "outputs": [
    {
     "data": {
      "text/plain": [
       "-240.0"
      ]
     },
     "execution_count": 31,
     "metadata": {},
     "output_type": "execute_result"
    }
   ],
   "source": [
    "cell_volume([10.0, 0.0, 0.0], [0.0, -4.0, 0.0], [0.0, 0.0, 6.0])"
   ]
  },
  {
   "cell_type": "code",
   "execution_count": null,
   "metadata": {
    "collapsed": true
   },
   "outputs": [],
   "source": []
  }
 ],
 "metadata": {
  "kernelspec": {
   "display_name": "Python 2",
   "language": "python",
   "name": "python2"
  },
  "language_info": {
   "codemirror_mode": {
    "name": "ipython",
    "version": 2
   },
   "file_extension": ".py",
   "mimetype": "text/x-python",
   "name": "python",
   "nbconvert_exporter": "python",
   "pygments_lexer": "ipython2",
   "version": "2.7.10"
  }
 },
 "nbformat": 4,
 "nbformat_minor": 0
}
